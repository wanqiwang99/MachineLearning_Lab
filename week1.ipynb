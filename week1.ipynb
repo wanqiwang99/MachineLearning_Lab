{
  "nbformat": 4,
  "nbformat_minor": 0,
  "metadata": {
    "colab": {
      "provenance": [],
      "toc_visible": true
    },
    "kernelspec": {
      "name": "python3",
      "display_name": "Python 3"
    },
    "language_info": {
      "name": "python"
    }
  },
  "cells": [
    {
      "cell_type": "markdown",
      "source": [
        "# Step 1: Import Packages"
      ],
      "metadata": {
        "id": "vKEpMMKSit-n"
      }
    },
    {
      "cell_type": "code",
      "source": [
        "import pandas as pd\n",
        "import matplotlib.pyplot as plt"
      ],
      "metadata": {
        "id": "35b4Gjp4iF3Z"
      },
      "execution_count": 6,
      "outputs": []
    },
    {
      "cell_type": "code",
      "execution_count": 2,
      "metadata": {
        "id": "Hp4pQE0Vfj3P"
      },
      "outputs": [],
      "source": [
        "from google.colab import drive"
      ]
    },
    {
      "cell_type": "markdown",
      "source": [
        "# Step 2: Connect to Google Drive"
      ],
      "metadata": {
        "id": "14Gp6cpwjZfl"
      }
    },
    {
      "cell_type": "code",
      "source": [
        "drive.mount('/content/gdrive/',force_remount = True)"
      ],
      "metadata": {
        "colab": {
          "base_uri": "https://localhost:8080/"
        },
        "id": "aLx9MWW5fx4I",
        "outputId": "1dae651a-9bb8-435e-abc8-9ceaea74d082"
      },
      "execution_count": 3,
      "outputs": [
        {
          "output_type": "stream",
          "name": "stdout",
          "text": [
            "Mounted at /content/gdrive/\n"
          ]
        }
      ]
    },
    {
      "cell_type": "markdown",
      "source": [
        "# Step 3: Read File"
      ],
      "metadata": {
        "id": "R-44hABajLQP"
      }
    },
    {
      "cell_type": "code",
      "source": [
        "df = pd.read_csv('/content/gdrive/MyDrive/Econ 441B/public_data_waste_fee.csv')"
      ],
      "metadata": {
        "id": "HadrNUKzgGwU"
      },
      "execution_count": 4,
      "outputs": []
    },
    {
      "cell_type": "code",
      "source": [
        "df.head()"
      ],
      "metadata": {
        "colab": {
          "base_uri": "https://localhost:8080/",
          "height": 334
        },
        "id": "IV3IF5RYiY2r",
        "outputId": "481652ae-45a0-4b56-e5fd-b438fb26cbdd"
      },
      "execution_count": 5,
      "outputs": [
        {
          "output_type": "execute_result",
          "data": {
            "text/plain": [
              "           region               province                  name          tc  \\\n",
              "0  Emilia_Romagna                Ferrara             Comacchio  502.250000   \n",
              "1  Emilia_Romagna                Ferrara             Lagosanto  228.050003   \n",
              "2  Emilia_Romagna                Ferrara                  Goro  268.010010   \n",
              "3  Emilia_Romagna                Ferrara                Mesola  199.089996   \n",
              "4          Puglia  Barletta-Andria-Trani  Margherita di Savoia  233.639999   \n",
              "\n",
              "         cres       csor   istat        area    pop  alt  ...       msw  \\\n",
              "0  129.270004  66.419998   38006  283.750000  22648  1.0  ...  33956781   \n",
              "1   49.520000  44.139999   38011   34.439999   4952  1.0  ...   2411867   \n",
              "2   50.610001  44.599998   38025   26.620001   3895  1.0  ...   2159322   \n",
              "3   41.110001  40.439999   38014   84.300003   7140  1.0  ...   3651915   \n",
              "4   58.270000  25.950001  110005   35.700001  12193  1.0  ...   7195880   \n",
              "\n",
              "     sor  geo  roads  s_wteregio s_landfill       gdp    proads      wage  \\\n",
              "0  60.07  3.0  285.0   33.105049  15.233530  7.269942  4.354818  9.438692   \n",
              "1  75.93  3.0   11.0   33.105049  15.233530  7.109984  6.082588  9.510139   \n",
              "2  78.49  3.0   49.0   33.105049  15.233530  7.267856  4.335555  8.891356   \n",
              "3  78.89  3.0  165.0   33.105049  15.233530  7.085936  3.710479  9.433685   \n",
              "4  42.06  1.0   60.0    4.046452  45.411903  7.247444  5.274037  9.125561   \n",
              "\n",
              "    finance  \n",
              "0  7.488041  \n",
              "1  7.323284  \n",
              "2  7.485891  \n",
              "3  7.298514  \n",
              "4  7.464867  \n",
              "\n",
              "[5 rows x 39 columns]"
            ],
            "text/html": [
              "\n",
              "  <div id=\"df-e8c8f34c-d46a-4b90-8ce4-a519613f5e29\">\n",
              "    <div class=\"colab-df-container\">\n",
              "      <div>\n",
              "<style scoped>\n",
              "    .dataframe tbody tr th:only-of-type {\n",
              "        vertical-align: middle;\n",
              "    }\n",
              "\n",
              "    .dataframe tbody tr th {\n",
              "        vertical-align: top;\n",
              "    }\n",
              "\n",
              "    .dataframe thead th {\n",
              "        text-align: right;\n",
              "    }\n",
              "</style>\n",
              "<table border=\"1\" class=\"dataframe\">\n",
              "  <thead>\n",
              "    <tr style=\"text-align: right;\">\n",
              "      <th></th>\n",
              "      <th>region</th>\n",
              "      <th>province</th>\n",
              "      <th>name</th>\n",
              "      <th>tc</th>\n",
              "      <th>cres</th>\n",
              "      <th>csor</th>\n",
              "      <th>istat</th>\n",
              "      <th>area</th>\n",
              "      <th>pop</th>\n",
              "      <th>alt</th>\n",
              "      <th>...</th>\n",
              "      <th>msw</th>\n",
              "      <th>sor</th>\n",
              "      <th>geo</th>\n",
              "      <th>roads</th>\n",
              "      <th>s_wteregio</th>\n",
              "      <th>s_landfill</th>\n",
              "      <th>gdp</th>\n",
              "      <th>proads</th>\n",
              "      <th>wage</th>\n",
              "      <th>finance</th>\n",
              "    </tr>\n",
              "  </thead>\n",
              "  <tbody>\n",
              "    <tr>\n",
              "      <th>0</th>\n",
              "      <td>Emilia_Romagna</td>\n",
              "      <td>Ferrara</td>\n",
              "      <td>Comacchio</td>\n",
              "      <td>502.250000</td>\n",
              "      <td>129.270004</td>\n",
              "      <td>66.419998</td>\n",
              "      <td>38006</td>\n",
              "      <td>283.750000</td>\n",
              "      <td>22648</td>\n",
              "      <td>1.0</td>\n",
              "      <td>...</td>\n",
              "      <td>33956781</td>\n",
              "      <td>60.07</td>\n",
              "      <td>3.0</td>\n",
              "      <td>285.0</td>\n",
              "      <td>33.105049</td>\n",
              "      <td>15.233530</td>\n",
              "      <td>7.269942</td>\n",
              "      <td>4.354818</td>\n",
              "      <td>9.438692</td>\n",
              "      <td>7.488041</td>\n",
              "    </tr>\n",
              "    <tr>\n",
              "      <th>1</th>\n",
              "      <td>Emilia_Romagna</td>\n",
              "      <td>Ferrara</td>\n",
              "      <td>Lagosanto</td>\n",
              "      <td>228.050003</td>\n",
              "      <td>49.520000</td>\n",
              "      <td>44.139999</td>\n",
              "      <td>38011</td>\n",
              "      <td>34.439999</td>\n",
              "      <td>4952</td>\n",
              "      <td>1.0</td>\n",
              "      <td>...</td>\n",
              "      <td>2411867</td>\n",
              "      <td>75.93</td>\n",
              "      <td>3.0</td>\n",
              "      <td>11.0</td>\n",
              "      <td>33.105049</td>\n",
              "      <td>15.233530</td>\n",
              "      <td>7.109984</td>\n",
              "      <td>6.082588</td>\n",
              "      <td>9.510139</td>\n",
              "      <td>7.323284</td>\n",
              "    </tr>\n",
              "    <tr>\n",
              "      <th>2</th>\n",
              "      <td>Emilia_Romagna</td>\n",
              "      <td>Ferrara</td>\n",
              "      <td>Goro</td>\n",
              "      <td>268.010010</td>\n",
              "      <td>50.610001</td>\n",
              "      <td>44.599998</td>\n",
              "      <td>38025</td>\n",
              "      <td>26.620001</td>\n",
              "      <td>3895</td>\n",
              "      <td>1.0</td>\n",
              "      <td>...</td>\n",
              "      <td>2159322</td>\n",
              "      <td>78.49</td>\n",
              "      <td>3.0</td>\n",
              "      <td>49.0</td>\n",
              "      <td>33.105049</td>\n",
              "      <td>15.233530</td>\n",
              "      <td>7.267856</td>\n",
              "      <td>4.335555</td>\n",
              "      <td>8.891356</td>\n",
              "      <td>7.485891</td>\n",
              "    </tr>\n",
              "    <tr>\n",
              "      <th>3</th>\n",
              "      <td>Emilia_Romagna</td>\n",
              "      <td>Ferrara</td>\n",
              "      <td>Mesola</td>\n",
              "      <td>199.089996</td>\n",
              "      <td>41.110001</td>\n",
              "      <td>40.439999</td>\n",
              "      <td>38014</td>\n",
              "      <td>84.300003</td>\n",
              "      <td>7140</td>\n",
              "      <td>1.0</td>\n",
              "      <td>...</td>\n",
              "      <td>3651915</td>\n",
              "      <td>78.89</td>\n",
              "      <td>3.0</td>\n",
              "      <td>165.0</td>\n",
              "      <td>33.105049</td>\n",
              "      <td>15.233530</td>\n",
              "      <td>7.085936</td>\n",
              "      <td>3.710479</td>\n",
              "      <td>9.433685</td>\n",
              "      <td>7.298514</td>\n",
              "    </tr>\n",
              "    <tr>\n",
              "      <th>4</th>\n",
              "      <td>Puglia</td>\n",
              "      <td>Barletta-Andria-Trani</td>\n",
              "      <td>Margherita di Savoia</td>\n",
              "      <td>233.639999</td>\n",
              "      <td>58.270000</td>\n",
              "      <td>25.950001</td>\n",
              "      <td>110005</td>\n",
              "      <td>35.700001</td>\n",
              "      <td>12193</td>\n",
              "      <td>1.0</td>\n",
              "      <td>...</td>\n",
              "      <td>7195880</td>\n",
              "      <td>42.06</td>\n",
              "      <td>1.0</td>\n",
              "      <td>60.0</td>\n",
              "      <td>4.046452</td>\n",
              "      <td>45.411903</td>\n",
              "      <td>7.247444</td>\n",
              "      <td>5.274037</td>\n",
              "      <td>9.125561</td>\n",
              "      <td>7.464867</td>\n",
              "    </tr>\n",
              "  </tbody>\n",
              "</table>\n",
              "<p>5 rows × 39 columns</p>\n",
              "</div>\n",
              "      <button class=\"colab-df-convert\" onclick=\"convertToInteractive('df-e8c8f34c-d46a-4b90-8ce4-a519613f5e29')\"\n",
              "              title=\"Convert this dataframe to an interactive table.\"\n",
              "              style=\"display:none;\">\n",
              "        \n",
              "  <svg xmlns=\"http://www.w3.org/2000/svg\" height=\"24px\"viewBox=\"0 0 24 24\"\n",
              "       width=\"24px\">\n",
              "    <path d=\"M0 0h24v24H0V0z\" fill=\"none\"/>\n",
              "    <path d=\"M18.56 5.44l.94 2.06.94-2.06 2.06-.94-2.06-.94-.94-2.06-.94 2.06-2.06.94zm-11 1L8.5 8.5l.94-2.06 2.06-.94-2.06-.94L8.5 2.5l-.94 2.06-2.06.94zm10 10l.94 2.06.94-2.06 2.06-.94-2.06-.94-.94-2.06-.94 2.06-2.06.94z\"/><path d=\"M17.41 7.96l-1.37-1.37c-.4-.4-.92-.59-1.43-.59-.52 0-1.04.2-1.43.59L10.3 9.45l-7.72 7.72c-.78.78-.78 2.05 0 2.83L4 21.41c.39.39.9.59 1.41.59.51 0 1.02-.2 1.41-.59l7.78-7.78 2.81-2.81c.8-.78.8-2.07 0-2.86zM5.41 20L4 18.59l7.72-7.72 1.47 1.35L5.41 20z\"/>\n",
              "  </svg>\n",
              "      </button>\n",
              "      \n",
              "  <style>\n",
              "    .colab-df-container {\n",
              "      display:flex;\n",
              "      flex-wrap:wrap;\n",
              "      gap: 12px;\n",
              "    }\n",
              "\n",
              "    .colab-df-convert {\n",
              "      background-color: #E8F0FE;\n",
              "      border: none;\n",
              "      border-radius: 50%;\n",
              "      cursor: pointer;\n",
              "      display: none;\n",
              "      fill: #1967D2;\n",
              "      height: 32px;\n",
              "      padding: 0 0 0 0;\n",
              "      width: 32px;\n",
              "    }\n",
              "\n",
              "    .colab-df-convert:hover {\n",
              "      background-color: #E2EBFA;\n",
              "      box-shadow: 0px 1px 2px rgba(60, 64, 67, 0.3), 0px 1px 3px 1px rgba(60, 64, 67, 0.15);\n",
              "      fill: #174EA6;\n",
              "    }\n",
              "\n",
              "    [theme=dark] .colab-df-convert {\n",
              "      background-color: #3B4455;\n",
              "      fill: #D2E3FC;\n",
              "    }\n",
              "\n",
              "    [theme=dark] .colab-df-convert:hover {\n",
              "      background-color: #434B5C;\n",
              "      box-shadow: 0px 1px 3px 1px rgba(0, 0, 0, 0.15);\n",
              "      filter: drop-shadow(0px 1px 2px rgba(0, 0, 0, 0.3));\n",
              "      fill: #FFFFFF;\n",
              "    }\n",
              "  </style>\n",
              "\n",
              "      <script>\n",
              "        const buttonEl =\n",
              "          document.querySelector('#df-e8c8f34c-d46a-4b90-8ce4-a519613f5e29 button.colab-df-convert');\n",
              "        buttonEl.style.display =\n",
              "          google.colab.kernel.accessAllowed ? 'block' : 'none';\n",
              "\n",
              "        async function convertToInteractive(key) {\n",
              "          const element = document.querySelector('#df-e8c8f34c-d46a-4b90-8ce4-a519613f5e29');\n",
              "          const dataTable =\n",
              "            await google.colab.kernel.invokeFunction('convertToInteractive',\n",
              "                                                     [key], {});\n",
              "          if (!dataTable) return;\n",
              "\n",
              "          const docLinkHtml = 'Like what you see? Visit the ' +\n",
              "            '<a target=\"_blank\" href=https://colab.research.google.com/notebooks/data_table.ipynb>data table notebook</a>'\n",
              "            + ' to learn more about interactive tables.';\n",
              "          element.innerHTML = '';\n",
              "          dataTable['output_type'] = 'display_data';\n",
              "          await google.colab.output.renderOutput(dataTable, element);\n",
              "          const docLink = document.createElement('div');\n",
              "          docLink.innerHTML = docLinkHtml;\n",
              "          element.appendChild(docLink);\n",
              "        }\n",
              "      </script>\n",
              "    </div>\n",
              "  </div>\n",
              "  "
            ]
          },
          "metadata": {},
          "execution_count": 5
        }
      ]
    },
    {
      "cell_type": "markdown",
      "source": [
        "# Step 4: Data cleaning and Viz"
      ],
      "metadata": {
        "id": "TXN6y3H_izMi"
      }
    },
    {
      "cell_type": "code",
      "source": [
        "plt.hist(df['gdp'], alpha = 0.5, bins = 'fd')\n",
        "plt.title(\"Histogram of gdp (FD Binning)\")"
      ],
      "metadata": {
        "colab": {
          "base_uri": "https://localhost:8080/",
          "height": 299
        },
        "id": "V1O8Vjcdi3s-",
        "outputId": "f5f1faee-233f-4fb5-e346-c856e4e2caf7"
      },
      "execution_count": 14,
      "outputs": [
        {
          "output_type": "execute_result",
          "data": {
            "text/plain": [
              "Text(0.5, 1.0, 'Histogram of gdp (FD Binning)')"
            ]
          },
          "metadata": {},
          "execution_count": 14
        },
        {
          "output_type": "display_data",
          "data": {
            "text/plain": [
              "<Figure size 432x288 with 1 Axes>"
            ],
            "image/png": "[encoded data removed]"
          },
          "metadata": {
            "needs_background": "light"
          }
        }
      ]
    },
    {
      "cell_type": "markdown",
      "source": [
        "From the histgram, we can see that gpd is somewhat right skewed, which suggests us to do log transformation."
      ],
      "metadata": {
        "id": "vLYcHJFwoSW9"
      }
    }
  ]
}