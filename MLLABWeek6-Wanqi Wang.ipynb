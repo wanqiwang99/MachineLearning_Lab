{
  "nbformat": 4,
  "nbformat_minor": 0,
  "metadata": {
    "colab": {
      "provenance": []
    },
    "kernelspec": {
      "name": "python3",
      "display_name": "Python 3"
    },
    "language_info": {
      "name": "python"
    }
  },
  "cells": [
    {
      "cell_type": "markdown",
      "source": [
        "# 1.) Preprocess your data into scaled input variables and an output variable\n"
      ],
      "metadata": {
        "id": "7ywSRtNI4s5h"
      }
    },
    {
      "cell_type": "code",
      "execution_count": 1,
      "metadata": {
        "id": "nsG1QV154GYZ"
      },
      "outputs": [],
      "source": [
        "import pandas as pd\n",
        "from google.colab import drive\n",
        "import matplotlib.pyplot as plt\n",
        "import numpy as np\n",
        "import datetime"
      ]
    },
    {
      "cell_type": "code",
      "source": [
        "drive.mount('/content/gdrive/', force_remount = True)"
      ],
      "metadata": {
        "colab": {
          "base_uri": "https://localhost:8080/"
        },
        "id": "Iku0T8Ou4Lcu",
        "outputId": "cd817490-c220-4d06-d61b-141b9e99f56c"
      },
      "execution_count": 2,
      "outputs": [
        {
          "output_type": "stream",
          "name": "stdout",
          "text": [
            "Mounted at /content/gdrive/\n"
          ]
        }
      ]
    },
    {
      "cell_type": "code",
      "source": [
        "df = pd.read_csv(\"/content/gdrive/MyDrive/Econ 441B/CLV.csv\")\n"
      ],
      "metadata": {
        "id": "Q7XmCWs_rULl"
      },
      "execution_count": 3,
      "outputs": []
    },
    {
      "cell_type": "code",
      "source": [
        "df"
      ],
      "metadata": {
        "id": "hN53osSaWoJd",
        "colab": {
          "base_uri": "https://localhost:8080/",
          "height": 539
        },
        "outputId": "fba397c6-aced-42e9-adc6-20e1231309d4"
      },
      "execution_count": 4,
      "outputs": [
        {
          "output_type": "execute_result",
          "data": {
            "text/plain": [
              "      Unnamed: 0  Customer Lifetime Value  Income  Number of Policies  \\\n",
              "0              0              2763.519279   56274                   1   \n",
              "1              1              6979.535903       0                   8   \n",
              "2              2             12887.431650   48767                   2   \n",
              "3              3              7645.861827       0                   7   \n",
              "4              4              2813.692575   43836                   1   \n",
              "...          ...                      ...     ...                 ...   \n",
              "9129        9129             23405.987980   71941                   2   \n",
              "9130        9130              3096.511217   21604                   1   \n",
              "9131        9131              8163.890428       0                   2   \n",
              "9132        9132              7524.442436   21941                   3   \n",
              "9133        9133              2611.836866       0                   1   \n",
              "\n",
              "      Total Claim Amount  Months Since Last Claim  Vehicle Size_Large  \\\n",
              "0             384.811147                       32                   0   \n",
              "1            1131.464935                       13                   0   \n",
              "2             566.472247                       18                   0   \n",
              "3             529.881344                       18                   0   \n",
              "4             138.130879                       12                   0   \n",
              "...                  ...                      ...                 ...   \n",
              "9129          198.234764                       18                   0   \n",
              "9130          379.200000                       14                   0   \n",
              "9131          790.784983                        9                   0   \n",
              "9132          691.200000                       34                   1   \n",
              "9133          369.600000                        3                   0   \n",
              "\n",
              "      Vehicle Size_Medsize  Gender_M  EmploymentStatus_Employed  \\\n",
              "0                        1         0                          1   \n",
              "1                        1         0                          0   \n",
              "2                        1         0                          1   \n",
              "3                        1         1                          0   \n",
              "4                        1         1                          1   \n",
              "...                    ...       ...                        ...   \n",
              "9129                     1         1                          1   \n",
              "9130                     1         0                          1   \n",
              "9131                     1         1                          0   \n",
              "9132                     0         1                          1   \n",
              "9133                     1         1                          0   \n",
              "\n",
              "      EmploymentStatus_Medical Leave  EmploymentStatus_Retired  \\\n",
              "0                                  0                         0   \n",
              "1                                  0                         0   \n",
              "2                                  0                         0   \n",
              "3                                  0                         0   \n",
              "4                                  0                         0   \n",
              "...                              ...                       ...   \n",
              "9129                               0                         0   \n",
              "9130                               0                         0   \n",
              "9131                               0                         0   \n",
              "9132                               0                         0   \n",
              "9133                               0                         0   \n",
              "\n",
              "      EmploymentStatus_Unemployed  Policy Type_Corporate Auto  \\\n",
              "0                               0                           1   \n",
              "1                               1                           0   \n",
              "2                               0                           0   \n",
              "3                               1                           1   \n",
              "4                               0                           0   \n",
              "...                           ...                         ...   \n",
              "9129                            0                           0   \n",
              "9130                            0                           1   \n",
              "9131                            1                           1   \n",
              "9132                            0                           0   \n",
              "9133                            1                           1   \n",
              "\n",
              "      Policy Type_Personal Auto  Marital Status_Divorced  \\\n",
              "0                             0                        0   \n",
              "1                             1                        0   \n",
              "2                             1                        0   \n",
              "3                             0                        0   \n",
              "4                             1                        0   \n",
              "...                         ...                      ...   \n",
              "9129                          1                        0   \n",
              "9130                          0                        1   \n",
              "9131                          0                        0   \n",
              "9132                          1                        0   \n",
              "9133                          0                        0   \n",
              "\n",
              "      Marital Status_Married  Marital Status_Single  \n",
              "0                          1                      0  \n",
              "1                          0                      1  \n",
              "2                          1                      0  \n",
              "3                          1                      0  \n",
              "4                          0                      1  \n",
              "...                      ...                    ...  \n",
              "9129                       1                      0  \n",
              "9130                       0                      0  \n",
              "9131                       0                      1  \n",
              "9132                       1                      0  \n",
              "9133                       0                      1  \n",
              "\n",
              "[9134 rows x 18 columns]"
            ],
            "text/html": [
              "\n",
              "  <div id=\"df-176ffb28-bcce-4620-ade3-3455a31f1cca\">\n",
              "    <div class=\"colab-df-container\">\n",
              "      <div>\n",
              "<style scoped>\n",
              "    .dataframe tbody tr th:only-of-type {\n",
              "        vertical-align: middle;\n",
              "    }\n",
              "\n",
              "    .dataframe tbody tr th {\n",
              "        vertical-align: top;\n",
              "    }\n",
              "\n",
              "    .dataframe thead th {\n",
              "        text-align: right;\n",
              "    }\n",
              "</style>\n",
              "<table border=\"1\" class=\"dataframe\">\n",
              "  <thead>\n",
              "    <tr style=\"text-align: right;\">\n",
              "      <th></th>\n",
              "      <th>Unnamed: 0</th>\n",
              "      <th>Customer Lifetime Value</th>\n",
              "      <th>Income</th>\n",
              "      <th>Number of Policies</th>\n",
              "      <th>Total Claim Amount</th>\n",
              "      <th>Months Since Last Claim</th>\n",
              "      <th>Vehicle Size_Large</th>\n",
              "      <th>Vehicle Size_Medsize</th>\n",
              "      <th>Gender_M</th>\n",
              "      <th>EmploymentStatus_Employed</th>\n",
              "      <th>EmploymentStatus_Medical Leave</th>\n",
              "      <th>EmploymentStatus_Retired</th>\n",
              "      <th>EmploymentStatus_Unemployed</th>\n",
              "      <th>Policy Type_Corporate Auto</th>\n",
              "      <th>Policy Type_Personal Auto</th>\n",
              "      <th>Marital Status_Divorced</th>\n",
              "      <th>Marital Status_Married</th>\n",
              "      <th>Marital Status_Single</th>\n",
              "    </tr>\n",
              "  </thead>\n",
              "  <tbody>\n",
              "    <tr>\n",
              "      <th>0</th>\n",
              "      <td>0</td>\n",
              "      <td>2763.519279</td>\n",
              "      <td>56274</td>\n",
              "      <td>1</td>\n",
              "      <td>384.811147</td>\n",
              "      <td>32</td>\n",
              "      <td>0</td>\n",
              "      <td>1</td>\n",
              "      <td>0</td>\n",
              "      <td>1</td>\n",
              "      <td>0</td>\n",
              "      <td>0</td>\n",
              "      <td>0</td>\n",
              "      <td>1</td>\n",
              "      <td>0</td>\n",
              "      <td>0</td>\n",
              "      <td>1</td>\n",
              "      <td>0</td>\n",
              "    </tr>\n",
              "    <tr>\n",
              "      <th>1</th>\n",
              "      <td>1</td>\n",
              "      <td>6979.535903</td>\n",
              "      <td>0</td>\n",
              "      <td>8</td>\n",
              "      <td>1131.464935</td>\n",
              "      <td>13</td>\n",
              "      <td>0</td>\n",
              "      <td>1</td>\n",
              "      <td>0</td>\n",
              "      <td>0</td>\n",
              "      <td>0</td>\n",
              "      <td>0</td>\n",
              "      <td>1</td>\n",
              "      <td>0</td>\n",
              "      <td>1</td>\n",
              "      <td>0</td>\n",
              "      <td>0</td>\n",
              "      <td>1</td>\n",
              "    </tr>\n",
              "    <tr>\n",
              "      <th>2</th>\n",
              "      <td>2</td>\n",
              "      <td>12887.431650</td>\n",
              "      <td>48767</td>\n",
              "      <td>2</td>\n",
              "      <td>566.472247</td>\n",
              "      <td>18</td>\n",
              "      <td>0</td>\n",
              "      <td>1</td>\n",
              "      <td>0</td>\n",
              "      <td>1</td>\n",
              "      <td>0</td>\n",
              "      <td>0</td>\n",
              "      <td>0</td>\n",
              "      <td>0</td>\n",
              "      <td>1</td>\n",
              "      <td>0</td>\n",
              "      <td>1</td>\n",
              "      <td>0</td>\n",
              "    </tr>\n",
              "    <tr>\n",
              "      <th>3</th>\n",
              "      <td>3</td>\n",
              "      <td>7645.861827</td>\n",
              "      <td>0</td>\n",
              "      <td>7</td>\n",
              "      <td>529.881344</td>\n",
              "      <td>18</td>\n",
              "      <td>0</td>\n",
              "      <td>1</td>\n",
              "      <td>1</td>\n",
              "      <td>0</td>\n",
              "      <td>0</td>\n",
              "      <td>0</td>\n",
              "      <td>1</td>\n",
              "      <td>1</td>\n",
              "      <td>0</td>\n",
              "      <td>0</td>\n",
              "      <td>1</td>\n",
              "      <td>0</td>\n",
              "    </tr>\n",
              "    <tr>\n",
              "      <th>4</th>\n",
              "      <td>4</td>\n",
              "      <td>2813.692575</td>\n",
              "      <td>43836</td>\n",
              "      <td>1</td>\n",
              "      <td>138.130879</td>\n",
              "      <td>12</td>\n",
              "      <td>0</td>\n",
              "      <td>1</td>\n",
              "      <td>1</td>\n",
              "      <td>1</td>\n",
              "      <td>0</td>\n",
              "      <td>0</td>\n",
              "      <td>0</td>\n",
              "      <td>0</td>\n",
              "      <td>1</td>\n",
              "      <td>0</td>\n",
              "      <td>0</td>\n",
              "      <td>1</td>\n",
              "    </tr>\n",
              "    <tr>\n",
              "      <th>...</th>\n",
              "      <td>...</td>\n",
              "      <td>...</td>\n",
              "      <td>...</td>\n",
              "      <td>...</td>\n",
              "      <td>...</td>\n",
              "      <td>...</td>\n",
              "      <td>...</td>\n",
              "      <td>...</td>\n",
              "      <td>...</td>\n",
              "      <td>...</td>\n",
              "      <td>...</td>\n",
              "      <td>...</td>\n",
              "      <td>...</td>\n",
              "      <td>...</td>\n",
              "      <td>...</td>\n",
              "      <td>...</td>\n",
              "      <td>...</td>\n",
              "      <td>...</td>\n",
              "    </tr>\n",
              "    <tr>\n",
              "      <th>9129</th>\n",
              "      <td>9129</td>\n",
              "      <td>23405.987980</td>\n",
              "      <td>71941</td>\n",
              "      <td>2</td>\n",
              "      <td>198.234764</td>\n",
              "      <td>18</td>\n",
              "      <td>0</td>\n",
              "      <td>1</td>\n",
              "      <td>1</td>\n",
              "      <td>1</td>\n",
              "      <td>0</td>\n",
              "      <td>0</td>\n",
              "      <td>0</td>\n",
              "      <td>0</td>\n",
              "      <td>1</td>\n",
              "      <td>0</td>\n",
              "      <td>1</td>\n",
              "      <td>0</td>\n",
              "    </tr>\n",
              "    <tr>\n",
              "      <th>9130</th>\n",
              "      <td>9130</td>\n",
              "      <td>3096.511217</td>\n",
              "      <td>21604</td>\n",
              "      <td>1</td>\n",
              "      <td>379.200000</td>\n",
              "      <td>14</td>\n",
              "      <td>0</td>\n",
              "      <td>1</td>\n",
              "      <td>0</td>\n",
              "      <td>1</td>\n",
              "      <td>0</td>\n",
              "      <td>0</td>\n",
              "      <td>0</td>\n",
              "      <td>1</td>\n",
              "      <td>0</td>\n",
              "      <td>1</td>\n",
              "      <td>0</td>\n",
              "      <td>0</td>\n",
              "    </tr>\n",
              "    <tr>\n",
              "      <th>9131</th>\n",
              "      <td>9131</td>\n",
              "      <td>8163.890428</td>\n",
              "      <td>0</td>\n",
              "      <td>2</td>\n",
              "      <td>790.784983</td>\n",
              "      <td>9</td>\n",
              "      <td>0</td>\n",
              "      <td>1</td>\n",
              "      <td>1</td>\n",
              "      <td>0</td>\n",
              "      <td>0</td>\n",
              "      <td>0</td>\n",
              "      <td>1</td>\n",
              "      <td>1</td>\n",
              "      <td>0</td>\n",
              "      <td>0</td>\n",
              "      <td>0</td>\n",
              "      <td>1</td>\n",
              "    </tr>\n",
              "    <tr>\n",
              "      <th>9132</th>\n",
              "      <td>9132</td>\n",
              "      <td>7524.442436</td>\n",
              "      <td>21941</td>\n",
              "      <td>3</td>\n",
              "      <td>691.200000</td>\n",
              "      <td>34</td>\n",
              "      <td>1</td>\n",
              "      <td>0</td>\n",
              "      <td>1</td>\n",
              "      <td>1</td>\n",
              "      <td>0</td>\n",
              "      <td>0</td>\n",
              "      <td>0</td>\n",
              "      <td>0</td>\n",
              "      <td>1</td>\n",
              "      <td>0</td>\n",
              "      <td>1</td>\n",
              "      <td>0</td>\n",
              "    </tr>\n",
              "    <tr>\n",
              "      <th>9133</th>\n",
              "      <td>9133</td>\n",
              "      <td>2611.836866</td>\n",
              "      <td>0</td>\n",
              "      <td>1</td>\n",
              "      <td>369.600000</td>\n",
              "      <td>3</td>\n",
              "      <td>0</td>\n",
              "      <td>1</td>\n",
              "      <td>1</td>\n",
              "      <td>0</td>\n",
              "      <td>0</td>\n",
              "      <td>0</td>\n",
              "      <td>1</td>\n",
              "      <td>1</td>\n",
              "      <td>0</td>\n",
              "      <td>0</td>\n",
              "      <td>0</td>\n",
              "      <td>1</td>\n",
              "    </tr>\n",
              "  </tbody>\n",
              "</table>\n",
              "<p>9134 rows × 18 columns</p>\n",
              "</div>\n",
              "      <button class=\"colab-df-convert\" onclick=\"convertToInteractive('df-176ffb28-bcce-4620-ade3-3455a31f1cca')\"\n",
              "              title=\"Convert this dataframe to an interactive table.\"\n",
              "              style=\"display:none;\">\n",
              "        \n",
              "  <svg xmlns=\"http://www.w3.org/2000/svg\" height=\"24px\"viewBox=\"0 0 24 24\"\n",
              "       width=\"24px\">\n",
              "    <path d=\"M0 0h24v24H0V0z\" fill=\"none\"/>\n",
              "    <path d=\"M18.56 5.44l.94 2.06.94-2.06 2.06-.94-2.06-.94-.94-2.06-.94 2.06-2.06.94zm-11 1L8.5 8.5l.94-2.06 2.06-.94-2.06-.94L8.5 2.5l-.94 2.06-2.06.94zm10 10l.94 2.06.94-2.06 2.06-.94-2.06-.94-.94-2.06-.94 2.06-2.06.94z\"/><path d=\"M17.41 7.96l-1.37-1.37c-.4-.4-.92-.59-1.43-.59-.52 0-1.04.2-1.43.59L10.3 9.45l-7.72 7.72c-.78.78-.78 2.05 0 2.83L4 21.41c.39.39.9.59 1.41.59.51 0 1.02-.2 1.41-.59l7.78-7.78 2.81-2.81c.8-.78.8-2.07 0-2.86zM5.41 20L4 18.59l7.72-7.72 1.47 1.35L5.41 20z\"/>\n",
              "  </svg>\n",
              "      </button>\n",
              "      \n",
              "  <style>\n",
              "    .colab-df-container {\n",
              "      display:flex;\n",
              "      flex-wrap:wrap;\n",
              "      gap: 12px;\n",
              "    }\n",
              "\n",
              "    .colab-df-convert {\n",
              "      background-color: #E8F0FE;\n",
              "      border: none;\n",
              "      border-radius: 50%;\n",
              "      cursor: pointer;\n",
              "      display: none;\n",
              "      fill: #1967D2;\n",
              "      height: 32px;\n",
              "      padding: 0 0 0 0;\n",
              "      width: 32px;\n",
              "    }\n",
              "\n",
              "    .colab-df-convert:hover {\n",
              "      background-color: #E2EBFA;\n",
              "      box-shadow: 0px 1px 2px rgba(60, 64, 67, 0.3), 0px 1px 3px 1px rgba(60, 64, 67, 0.15);\n",
              "      fill: #174EA6;\n",
              "    }\n",
              "\n",
              "    [theme=dark] .colab-df-convert {\n",
              "      background-color: #3B4455;\n",
              "      fill: #D2E3FC;\n",
              "    }\n",
              "\n",
              "    [theme=dark] .colab-df-convert:hover {\n",
              "      background-color: #434B5C;\n",
              "      box-shadow: 0px 1px 3px 1px rgba(0, 0, 0, 0.15);\n",
              "      filter: drop-shadow(0px 1px 2px rgba(0, 0, 0, 0.3));\n",
              "      fill: #FFFFFF;\n",
              "    }\n",
              "  </style>\n",
              "\n",
              "      <script>\n",
              "        const buttonEl =\n",
              "          document.querySelector('#df-176ffb28-bcce-4620-ade3-3455a31f1cca button.colab-df-convert');\n",
              "        buttonEl.style.display =\n",
              "          google.colab.kernel.accessAllowed ? 'block' : 'none';\n",
              "\n",
              "        async function convertToInteractive(key) {\n",
              "          const element = document.querySelector('#df-176ffb28-bcce-4620-ade3-3455a31f1cca');\n",
              "          const dataTable =\n",
              "            await google.colab.kernel.invokeFunction('convertToInteractive',\n",
              "                                                     [key], {});\n",
              "          if (!dataTable) return;\n",
              "\n",
              "          const docLinkHtml = 'Like what you see? Visit the ' +\n",
              "            '<a target=\"_blank\" href=https://colab.research.google.com/notebooks/data_table.ipynb>data table notebook</a>'\n",
              "            + ' to learn more about interactive tables.';\n",
              "          element.innerHTML = '';\n",
              "          dataTable['output_type'] = 'display_data';\n",
              "          await google.colab.output.renderOutput(dataTable, element);\n",
              "          const docLink = document.createElement('div');\n",
              "          docLink.innerHTML = docLinkHtml;\n",
              "          element.appendChild(docLink);\n",
              "        }\n",
              "      </script>\n",
              "    </div>\n",
              "  </div>\n",
              "  "
            ]
          },
          "metadata": {},
          "execution_count": 4
        }
      ]
    },
    {
      "cell_type": "code",
      "source": [
        "X = df.drop([\"Unnamed: 0\",\"Customer Lifetime Value\"], axis =1 )\n",
        "y = df['Customer Lifetime Value']"
      ],
      "metadata": {
        "id": "1bzkFslvWGtz"
      },
      "execution_count": 5,
      "outputs": []
    },
    {
      "cell_type": "code",
      "source": [
        "from sklearn.model_selection import train_test_split\n",
        "X_train, X_test, y_train, y_test = train_test_split(X, y, test_size = .3)"
      ],
      "metadata": {
        "id": "Af__tGnNpTcA"
      },
      "execution_count": 6,
      "outputs": []
    },
    {
      "cell_type": "code",
      "source": [
        "from sklearn.preprocessing import StandardScaler"
      ],
      "metadata": {
        "id": "BaX5ur0GyAh6"
      },
      "execution_count": 7,
      "outputs": []
    },
    {
      "cell_type": "code",
      "source": [
        "scaler = StandardScaler()\n",
        "X_train = scaler.fit_transform(X_train)\n",
        "X_test = scaler.transform(X_test)"
      ],
      "metadata": {
        "id": "BJmAsFM1TRFA"
      },
      "execution_count": 8,
      "outputs": []
    },
    {
      "cell_type": "markdown",
      "source": [
        "# 2.) Run a GridSearch CV on at least 10 possible combinations of hyper parameters "
      ],
      "metadata": {
        "id": "OacsID8kTRvk"
      }
    },
    {
      "cell_type": "code",
      "source": [
        "from sklearn.neural_network import MLPRegressor\n",
        "from sklearn.model_selection import GridSearchCV"
      ],
      "metadata": {
        "id": "8WKQg4bxTq1-"
      },
      "execution_count": 9,
      "outputs": []
    },
    {
      "cell_type": "code",
      "source": [
        "clf = MLPRegressor()\n",
        "\n",
        "params = {\n",
        "    \"hidden_layer_sizes\": [(10,), (20,5,)], \n",
        "    \"activation\" : ['relu','logistic']\n",
        "}"
      ],
      "metadata": {
        "id": "7n4F6kC5Tq5J"
      },
      "execution_count": 10,
      "outputs": []
    },
    {
      "cell_type": "code",
      "source": [
        "grid = GridSearchCV(clf, params, cv = 5)\n",
        "grid.fit(X_train, y_train)"
      ],
      "metadata": {
        "id": "MAgK4ViYyabU",
        "colab": {
          "base_uri": "https://localhost:8080/"
        },
        "outputId": "7bceb4b0-bba8-4bf7-86d8-edb3dc2cfd6d"
      },
      "execution_count": 11,
      "outputs": [
        {
          "output_type": "stream",
          "name": "stderr",
          "text": [
            "/usr/local/lib/python3.8/dist-packages/sklearn/neural_network/_multilayer_perceptron.py:692: ConvergenceWarning: Stochastic Optimizer: Maximum iterations (200) reached and the optimization hasn't converged yet.\n",
            "  warnings.warn(\n",
            "/usr/local/lib/python3.8/dist-packages/sklearn/neural_network/_multilayer_perceptron.py:692: ConvergenceWarning: Stochastic Optimizer: Maximum iterations (200) reached and the optimization hasn't converged yet.\n",
            "  warnings.warn(\n",
            "/usr/local/lib/python3.8/dist-packages/sklearn/neural_network/_multilayer_perceptron.py:692: ConvergenceWarning: Stochastic Optimizer: Maximum iterations (200) reached and the optimization hasn't converged yet.\n",
            "  warnings.warn(\n",
            "/usr/local/lib/python3.8/dist-packages/sklearn/neural_network/_multilayer_perceptron.py:692: ConvergenceWarning: Stochastic Optimizer: Maximum iterations (200) reached and the optimization hasn't converged yet.\n",
            "  warnings.warn(\n",
            "/usr/local/lib/python3.8/dist-packages/sklearn/neural_network/_multilayer_perceptron.py:692: ConvergenceWarning: Stochastic Optimizer: Maximum iterations (200) reached and the optimization hasn't converged yet.\n",
            "  warnings.warn(\n",
            "/usr/local/lib/python3.8/dist-packages/sklearn/neural_network/_multilayer_perceptron.py:692: ConvergenceWarning: Stochastic Optimizer: Maximum iterations (200) reached and the optimization hasn't converged yet.\n",
            "  warnings.warn(\n",
            "/usr/local/lib/python3.8/dist-packages/sklearn/neural_network/_multilayer_perceptron.py:692: ConvergenceWarning: Stochastic Optimizer: Maximum iterations (200) reached and the optimization hasn't converged yet.\n",
            "  warnings.warn(\n",
            "/usr/local/lib/python3.8/dist-packages/sklearn/neural_network/_multilayer_perceptron.py:692: ConvergenceWarning: Stochastic Optimizer: Maximum iterations (200) reached and the optimization hasn't converged yet.\n",
            "  warnings.warn(\n",
            "/usr/local/lib/python3.8/dist-packages/sklearn/neural_network/_multilayer_perceptron.py:692: ConvergenceWarning: Stochastic Optimizer: Maximum iterations (200) reached and the optimization hasn't converged yet.\n",
            "  warnings.warn(\n",
            "/usr/local/lib/python3.8/dist-packages/sklearn/neural_network/_multilayer_perceptron.py:692: ConvergenceWarning: Stochastic Optimizer: Maximum iterations (200) reached and the optimization hasn't converged yet.\n",
            "  warnings.warn(\n",
            "/usr/local/lib/python3.8/dist-packages/sklearn/neural_network/_multilayer_perceptron.py:692: ConvergenceWarning: Stochastic Optimizer: Maximum iterations (200) reached and the optimization hasn't converged yet.\n",
            "  warnings.warn(\n",
            "/usr/local/lib/python3.8/dist-packages/sklearn/neural_network/_multilayer_perceptron.py:692: ConvergenceWarning: Stochastic Optimizer: Maximum iterations (200) reached and the optimization hasn't converged yet.\n",
            "  warnings.warn(\n",
            "/usr/local/lib/python3.8/dist-packages/sklearn/neural_network/_multilayer_perceptron.py:692: ConvergenceWarning: Stochastic Optimizer: Maximum iterations (200) reached and the optimization hasn't converged yet.\n",
            "  warnings.warn(\n",
            "/usr/local/lib/python3.8/dist-packages/sklearn/neural_network/_multilayer_perceptron.py:692: ConvergenceWarning: Stochastic Optimizer: Maximum iterations (200) reached and the optimization hasn't converged yet.\n",
            "  warnings.warn(\n",
            "/usr/local/lib/python3.8/dist-packages/sklearn/neural_network/_multilayer_perceptron.py:692: ConvergenceWarning: Stochastic Optimizer: Maximum iterations (200) reached and the optimization hasn't converged yet.\n",
            "  warnings.warn(\n",
            "/usr/local/lib/python3.8/dist-packages/sklearn/neural_network/_multilayer_perceptron.py:692: ConvergenceWarning: Stochastic Optimizer: Maximum iterations (200) reached and the optimization hasn't converged yet.\n",
            "  warnings.warn(\n",
            "/usr/local/lib/python3.8/dist-packages/sklearn/neural_network/_multilayer_perceptron.py:692: ConvergenceWarning: Stochastic Optimizer: Maximum iterations (200) reached and the optimization hasn't converged yet.\n",
            "  warnings.warn(\n",
            "/usr/local/lib/python3.8/dist-packages/sklearn/neural_network/_multilayer_perceptron.py:692: ConvergenceWarning: Stochastic Optimizer: Maximum iterations (200) reached and the optimization hasn't converged yet.\n",
            "  warnings.warn(\n",
            "/usr/local/lib/python3.8/dist-packages/sklearn/neural_network/_multilayer_perceptron.py:692: ConvergenceWarning: Stochastic Optimizer: Maximum iterations (200) reached and the optimization hasn't converged yet.\n",
            "  warnings.warn(\n",
            "/usr/local/lib/python3.8/dist-packages/sklearn/neural_network/_multilayer_perceptron.py:692: ConvergenceWarning: Stochastic Optimizer: Maximum iterations (200) reached and the optimization hasn't converged yet.\n",
            "  warnings.warn(\n",
            "/usr/local/lib/python3.8/dist-packages/sklearn/neural_network/_multilayer_perceptron.py:692: ConvergenceWarning: Stochastic Optimizer: Maximum iterations (200) reached and the optimization hasn't converged yet.\n",
            "  warnings.warn(\n"
          ]
        },
        {
          "output_type": "execute_result",
          "data": {
            "text/plain": [
              "GridSearchCV(cv=5, estimator=MLPRegressor(),\n",
              "             param_grid={'activation': ['relu', 'logistic'],\n",
              "                         'hidden_layer_sizes': [(10,), (20, 5)]})"
            ]
          },
          "metadata": {},
          "execution_count": 11
        }
      ]
    },
    {
      "cell_type": "code",
      "source": [
        "print(grid.best_params_)"
      ],
      "metadata": {
        "id": "ka42I1DMyad6",
        "colab": {
          "base_uri": "https://localhost:8080/"
        },
        "outputId": "7eba0b67-5e56-47c4-ccd6-11c8415f171e"
      },
      "execution_count": 12,
      "outputs": [
        {
          "output_type": "stream",
          "name": "stdout",
          "text": [
            "{'activation': 'relu', 'hidden_layer_sizes': (20, 5)}\n"
          ]
        }
      ]
    },
    {
      "cell_type": "markdown",
      "source": [
        "# 3.) Train a model with the optimal solution from GridSearch"
      ],
      "metadata": {
        "id": "DKNdxiyOTsOE"
      }
    },
    {
      "cell_type": "code",
      "source": [
        "MLPRegressor(**grid.best_params_)"
      ],
      "metadata": {
        "id": "tlySuJN1ULTl",
        "colab": {
          "base_uri": "https://localhost:8080/"
        },
        "outputId": "12f585fe-5e6a-4b48-aa1a-aa2af88ffc2e"
      },
      "execution_count": 13,
      "outputs": [
        {
          "output_type": "execute_result",
          "data": {
            "text/plain": [
              "MLPRegressor(hidden_layer_sizes=(20, 5))"
            ]
          },
          "metadata": {},
          "execution_count": 13
        }
      ]
    },
    {
      "cell_type": "code",
      "source": [
        "p_dict = {\n",
        "    \"hidden_layer_sizes\": (10,), \n",
        "    \"activation\" : 'relu'\n",
        "}\n",
        "\n",
        "model1 = MLPRegressor(**p_dict)\n",
        "\n",
        "#=======EQUIVALENT TO========\n",
        "\n",
        "# MLPRegressor(hidden_layer_sizes = (10,), \n",
        "             # activation = \"relu\")"
      ],
      "metadata": {
        "id": "sfbnPTe5Tq_9"
      },
      "execution_count": 14,
      "outputs": []
    },
    {
      "cell_type": "code",
      "source": [
        "model1.fit(X_train, y_train)"
      ],
      "metadata": {
        "colab": {
          "base_uri": "https://localhost:8080/"
        },
        "id": "Jt1HtPXpt8z7",
        "outputId": "6b83546d-d6f9-4287-e657-66a40c49d82b"
      },
      "execution_count": 15,
      "outputs": [
        {
          "output_type": "stream",
          "name": "stderr",
          "text": [
            "/usr/local/lib/python3.8/dist-packages/sklearn/neural_network/_multilayer_perceptron.py:692: ConvergenceWarning: Stochastic Optimizer: Maximum iterations (200) reached and the optimization hasn't converged yet.\n",
            "  warnings.warn(\n"
          ]
        },
        {
          "output_type": "execute_result",
          "data": {
            "text/plain": [
              "MLPRegressor(hidden_layer_sizes=(10,))"
            ]
          },
          "metadata": {},
          "execution_count": 15
        }
      ]
    },
    {
      "cell_type": "markdown",
      "source": [
        "# 4.) What are the in-sample and out of sample MSEs"
      ],
      "metadata": {
        "id": "qTPkbSDwT0nO"
      }
    },
    {
      "cell_type": "code",
      "source": [
        "from sklearn.metrics import mean_squared_error\n",
        "\n",
        "# Compute in-sample MSE\n",
        "y_pred_train = model1.predict(X_train)\n",
        "mse_train = mean_squared_error(y_train, y_pred_train)\n",
        "mse_train"
      ],
      "metadata": {
        "id": "2KuP_O-uJFg0",
        "colab": {
          "base_uri": "https://localhost:8080/"
        },
        "outputId": "30e33051-a97e-467e-9c51-3ee04b41eee6"
      },
      "execution_count": 16,
      "outputs": [
        {
          "output_type": "execute_result",
          "data": {
            "text/plain": [
              "93377078.55053075"
            ]
          },
          "metadata": {},
          "execution_count": 16
        }
      ]
    },
    {
      "cell_type": "code",
      "source": [
        "# Compute out-of-sample MSE\n",
        "y_pred_test = model1.predict(X_test)\n",
        "mse_test = mean_squared_error(y_test, y_pred_test)\n",
        "mse_test"
      ],
      "metadata": {
        "id": "RjTa3ShN_edU",
        "colab": {
          "base_uri": "https://localhost:8080/"
        },
        "outputId": "99878dea-727b-40cd-90e8-513cfee9b8e4"
      },
      "execution_count": 17,
      "outputs": [
        {
          "output_type": "execute_result",
          "data": {
            "text/plain": [
              "100460235.93464424"
            ]
          },
          "metadata": {},
          "execution_count": 17
        }
      ]
    },
    {
      "cell_type": "markdown",
      "source": [
        "# 5.) Build a Keras with the architecture defined by GridSearchCV"
      ],
      "metadata": {
        "id": "YVQ1PvBK_ev0"
      }
    },
    {
      "cell_type": "code",
      "source": [
        "import keras.models\n",
        "from keras.optimizers import Adam\n",
        "from keras.models import Sequential\n",
        "from keras.layers import Dense"
      ],
      "metadata": {
        "id": "KxAQwRx7wliR"
      },
      "execution_count": 18,
      "outputs": []
    },
    {
      "cell_type": "code",
      "source": [
        "# Define model architecture\n",
        "model2 = Sequential()\n",
        "model2.add(Dense(20, activation='relu', input_shape=(X_train.shape[1],)))\n",
        "model2.add(Dense(5, activation='relu'))\n",
        "model2.add(Dense(1, activation='softmax'))"
      ],
      "metadata": {
        "id": "w_D3PD-Uwlks"
      },
      "execution_count": 19,
      "outputs": []
    },
    {
      "cell_type": "code",
      "source": [
        "# Compile model\n",
        "model2.compile(optimizer = Adam(lr = 0.01), loss='mean_squared_error')\n",
        "\n",
        "# Train model\n",
        "model2.fit(X_train, y_train, epochs=100, batch_size=32)"
      ],
      "metadata": {
        "colab": {
          "base_uri": "https://localhost:8080/"
        },
        "id": "H_z7n43zwlmy",
        "outputId": "5259b293-ce0d-4914-b11b-a7f5e4f53b69"
      },
      "execution_count": 20,
      "outputs": [
        {
          "output_type": "stream",
          "name": "stderr",
          "text": [
            "/usr/local/lib/python3.8/dist-packages/keras/optimizers/optimizer_v2/adam.py:117: UserWarning: The `lr` argument is deprecated, use `learning_rate` instead.\n",
            "  super().__init__(name, **kwargs)\n"
          ]
        },
        {
          "output_type": "stream",
          "name": "stdout",
          "text": [
            "Epoch 1/100\n",
            "200/200 [==============================] - 1s 2ms/step - loss: 109038792.0000\n",
            "Epoch 2/100\n",
            "200/200 [==============================] - 0s 2ms/step - loss: 109038752.0000\n",
            "Epoch 3/100\n",
            "200/200 [==============================] - 1s 3ms/step - loss: 109038760.0000\n",
            "Epoch 4/100\n",
            "200/200 [==============================] - 1s 3ms/step - loss: 109038776.0000\n",
            "Epoch 5/100\n",
            "200/200 [==============================] - 1s 3ms/step - loss: 109038792.0000\n",
            "Epoch 6/100\n",
            "200/200 [==============================] - 1s 3ms/step - loss: 109038776.0000\n",
            "Epoch 7/100\n",
            "200/200 [==============================] - 1s 3ms/step - loss: 109038744.0000\n",
            "Epoch 8/100\n",
            "200/200 [==============================] - 1s 3ms/step - loss: 109038792.0000\n",
            "Epoch 9/100\n",
            "200/200 [==============================] - 1s 3ms/step - loss: 109038760.0000\n",
            "Epoch 10/100\n",
            "200/200 [==============================] - 1s 3ms/step - loss: 109038760.0000\n",
            "Epoch 11/100\n",
            "200/200 [==============================] - 0s 2ms/step - loss: 109038800.0000\n",
            "Epoch 12/100\n",
            "200/200 [==============================] - 0s 2ms/step - loss: 109038784.0000\n",
            "Epoch 13/100\n",
            "200/200 [==============================] - 0s 2ms/step - loss: 109038792.0000\n",
            "Epoch 14/100\n",
            "200/200 [==============================] - 0s 2ms/step - loss: 109038800.0000\n",
            "Epoch 15/100\n",
            "200/200 [==============================] - 0s 2ms/step - loss: 109038776.0000\n",
            "Epoch 16/100\n",
            "200/200 [==============================] - 0s 2ms/step - loss: 109038784.0000\n",
            "Epoch 17/100\n",
            "200/200 [==============================] - 0s 2ms/step - loss: 109038776.0000\n",
            "Epoch 18/100\n",
            "200/200 [==============================] - 0s 2ms/step - loss: 109038760.0000\n",
            "Epoch 19/100\n",
            "200/200 [==============================] - 0s 2ms/step - loss: 109038792.0000\n",
            "Epoch 20/100\n",
            "200/200 [==============================] - 0s 2ms/step - loss: 109038784.0000\n",
            "Epoch 21/100\n",
            "200/200 [==============================] - 0s 2ms/step - loss: 109038784.0000\n",
            "Epoch 22/100\n",
            "200/200 [==============================] - 0s 2ms/step - loss: 109038760.0000\n",
            "Epoch 23/100\n",
            "200/200 [==============================] - 0s 2ms/step - loss: 109038744.0000\n",
            "Epoch 24/100\n",
            "200/200 [==============================] - 0s 2ms/step - loss: 109038816.0000\n",
            "Epoch 25/100\n",
            "200/200 [==============================] - 0s 2ms/step - loss: 109038760.0000\n",
            "Epoch 26/100\n",
            "200/200 [==============================] - 0s 2ms/step - loss: 109038760.0000\n",
            "Epoch 27/100\n",
            "200/200 [==============================] - 0s 2ms/step - loss: 109038776.0000\n",
            "Epoch 28/100\n",
            "200/200 [==============================] - 0s 2ms/step - loss: 109038744.0000\n",
            "Epoch 29/100\n",
            "200/200 [==============================] - 0s 2ms/step - loss: 109038784.0000\n",
            "Epoch 30/100\n",
            "200/200 [==============================] - 0s 2ms/step - loss: 109038792.0000\n",
            "Epoch 31/100\n",
            "200/200 [==============================] - 0s 2ms/step - loss: 109038784.0000\n",
            "Epoch 32/100\n",
            "200/200 [==============================] - 0s 2ms/step - loss: 109038760.0000\n",
            "Epoch 33/100\n",
            "200/200 [==============================] - 0s 2ms/step - loss: 109038784.0000\n",
            "Epoch 34/100\n",
            "200/200 [==============================] - 0s 2ms/step - loss: 109038752.0000\n",
            "Epoch 35/100\n",
            "200/200 [==============================] - 1s 3ms/step - loss: 109038776.0000\n",
            "Epoch 36/100\n",
            "200/200 [==============================] - 1s 3ms/step - loss: 109038744.0000\n",
            "Epoch 37/100\n",
            "200/200 [==============================] - 1s 3ms/step - loss: 109038776.0000\n",
            "Epoch 38/100\n",
            "200/200 [==============================] - 1s 3ms/step - loss: 109038792.0000\n",
            "Epoch 39/100\n",
            "200/200 [==============================] - 1s 3ms/step - loss: 109038784.0000\n",
            "Epoch 40/100\n",
            "200/200 [==============================] - 1s 3ms/step - loss: 109038824.0000\n",
            "Epoch 41/100\n",
            "200/200 [==============================] - 1s 3ms/step - loss: 109038792.0000\n",
            "Epoch 42/100\n",
            "200/200 [==============================] - 1s 3ms/step - loss: 109038784.0000\n",
            "Epoch 43/100\n",
            "200/200 [==============================] - 0s 2ms/step - loss: 109038776.0000\n",
            "Epoch 44/100\n",
            "200/200 [==============================] - 0s 2ms/step - loss: 109038720.0000\n",
            "Epoch 45/100\n",
            "200/200 [==============================] - 0s 2ms/step - loss: 109038800.0000\n",
            "Epoch 46/100\n",
            "200/200 [==============================] - 0s 2ms/step - loss: 109038776.0000\n",
            "Epoch 47/100\n",
            "200/200 [==============================] - 0s 2ms/step - loss: 109038784.0000\n",
            "Epoch 48/100\n",
            "200/200 [==============================] - 0s 2ms/step - loss: 109038744.0000\n",
            "Epoch 49/100\n",
            "200/200 [==============================] - 0s 2ms/step - loss: 109038816.0000\n",
            "Epoch 50/100\n",
            "200/200 [==============================] - 0s 2ms/step - loss: 109038776.0000\n",
            "Epoch 51/100\n",
            "200/200 [==============================] - 0s 2ms/step - loss: 109038776.0000\n",
            "Epoch 52/100\n",
            "200/200 [==============================] - 0s 2ms/step - loss: 109038752.0000\n",
            "Epoch 53/100\n",
            "200/200 [==============================] - 0s 2ms/step - loss: 109038760.0000\n",
            "Epoch 54/100\n",
            "200/200 [==============================] - 0s 2ms/step - loss: 109038760.0000\n",
            "Epoch 55/100\n",
            "200/200 [==============================] - 0s 2ms/step - loss: 109038752.0000\n",
            "Epoch 56/100\n",
            "200/200 [==============================] - 0s 2ms/step - loss: 109038784.0000\n",
            "Epoch 57/100\n",
            "200/200 [==============================] - 0s 2ms/step - loss: 109038784.0000\n",
            "Epoch 58/100\n",
            "200/200 [==============================] - 0s 2ms/step - loss: 109038760.0000\n",
            "Epoch 59/100\n",
            "200/200 [==============================] - 0s 2ms/step - loss: 109038776.0000\n",
            "Epoch 60/100\n",
            "200/200 [==============================] - 0s 2ms/step - loss: 109038760.0000\n",
            "Epoch 61/100\n",
            "200/200 [==============================] - 0s 2ms/step - loss: 109038760.0000\n",
            "Epoch 62/100\n",
            "200/200 [==============================] - 0s 2ms/step - loss: 109038776.0000\n",
            "Epoch 63/100\n",
            "200/200 [==============================] - 0s 2ms/step - loss: 109038776.0000\n",
            "Epoch 64/100\n",
            "200/200 [==============================] - 0s 2ms/step - loss: 109038784.0000\n",
            "Epoch 65/100\n",
            "200/200 [==============================] - 0s 2ms/step - loss: 109038792.0000\n",
            "Epoch 66/100\n",
            "200/200 [==============================] - 1s 3ms/step - loss: 109038752.0000\n",
            "Epoch 67/100\n",
            "200/200 [==============================] - 1s 3ms/step - loss: 109038792.0000\n",
            "Epoch 68/100\n",
            "200/200 [==============================] - 1s 3ms/step - loss: 109038760.0000\n",
            "Epoch 69/100\n",
            "200/200 [==============================] - 1s 3ms/step - loss: 109038776.0000\n",
            "Epoch 70/100\n",
            "200/200 [==============================] - 1s 3ms/step - loss: 109038752.0000\n",
            "Epoch 71/100\n",
            "200/200 [==============================] - 1s 3ms/step - loss: 109038792.0000\n",
            "Epoch 72/100\n",
            "200/200 [==============================] - 1s 3ms/step - loss: 109038776.0000\n",
            "Epoch 73/100\n",
            "200/200 [==============================] - 1s 3ms/step - loss: 109038784.0000\n",
            "Epoch 74/100\n",
            "200/200 [==============================] - 0s 2ms/step - loss: 109038784.0000\n",
            "Epoch 75/100\n",
            "200/200 [==============================] - 0s 2ms/step - loss: 109038776.0000\n",
            "Epoch 76/100\n",
            "200/200 [==============================] - 0s 2ms/step - loss: 109038752.0000\n",
            "Epoch 77/100\n",
            "200/200 [==============================] - 0s 2ms/step - loss: 109038784.0000\n",
            "Epoch 78/100\n",
            "200/200 [==============================] - 0s 2ms/step - loss: 109038800.0000\n",
            "Epoch 79/100\n",
            "200/200 [==============================] - 0s 2ms/step - loss: 109038776.0000\n",
            "Epoch 80/100\n",
            "200/200 [==============================] - 0s 2ms/step - loss: 109038784.0000\n",
            "Epoch 81/100\n",
            "200/200 [==============================] - 0s 2ms/step - loss: 109038760.0000\n",
            "Epoch 82/100\n",
            "200/200 [==============================] - 0s 2ms/step - loss: 109038760.0000\n",
            "Epoch 83/100\n",
            "200/200 [==============================] - 0s 2ms/step - loss: 109038728.0000\n",
            "Epoch 84/100\n",
            "200/200 [==============================] - 0s 2ms/step - loss: 109038784.0000\n",
            "Epoch 85/100\n",
            "200/200 [==============================] - 0s 2ms/step - loss: 109038800.0000\n",
            "Epoch 86/100\n",
            "200/200 [==============================] - 0s 2ms/step - loss: 109038784.0000\n",
            "Epoch 87/100\n",
            "200/200 [==============================] - 0s 2ms/step - loss: 109038752.0000\n",
            "Epoch 88/100\n",
            "200/200 [==============================] - 0s 2ms/step - loss: 109038760.0000\n",
            "Epoch 89/100\n",
            "200/200 [==============================] - 0s 2ms/step - loss: 109038744.0000\n",
            "Epoch 90/100\n",
            "200/200 [==============================] - 0s 2ms/step - loss: 109038792.0000\n",
            "Epoch 91/100\n",
            "200/200 [==============================] - 0s 2ms/step - loss: 109038792.0000\n",
            "Epoch 92/100\n",
            "200/200 [==============================] - 0s 2ms/step - loss: 109038760.0000\n",
            "Epoch 93/100\n",
            "200/200 [==============================] - 0s 2ms/step - loss: 109038792.0000\n",
            "Epoch 94/100\n",
            "200/200 [==============================] - 0s 2ms/step - loss: 109038776.0000\n",
            "Epoch 95/100\n",
            "200/200 [==============================] - 0s 2ms/step - loss: 109038792.0000\n",
            "Epoch 96/100\n",
            "200/200 [==============================] - 0s 2ms/step - loss: 109038752.0000\n",
            "Epoch 97/100\n",
            "200/200 [==============================] - 0s 2ms/step - loss: 109038752.0000\n",
            "Epoch 98/100\n",
            "200/200 [==============================] - 1s 3ms/step - loss: 109038752.0000\n",
            "Epoch 99/100\n",
            "200/200 [==============================] - 1s 3ms/step - loss: 109038760.0000\n",
            "Epoch 100/100\n",
            "200/200 [==============================] - 1s 3ms/step - loss: 109038776.0000\n"
          ]
        },
        {
          "output_type": "execute_result",
          "data": {
            "text/plain": [
              "<keras.callbacks.History at 0x7f5a427410a0>"
            ]
          },
          "metadata": {},
          "execution_count": 20
        }
      ]
    },
    {
      "cell_type": "code",
      "source": [
        "# Save Model\n",
        "keras.models.save_model(model2, \"/folder\")"
      ],
      "metadata": {
        "id": "OujJhpmCxrEL"
      },
      "execution_count": 21,
      "outputs": []
    },
    {
      "cell_type": "code",
      "source": [
        "model2.summary()"
      ],
      "metadata": {
        "colab": {
          "base_uri": "https://localhost:8080/"
        },
        "id": "kDe6TJ82yLTK",
        "outputId": "c176c765-82c5-4580-c536-83b993ec1bb1"
      },
      "execution_count": 22,
      "outputs": [
        {
          "output_type": "stream",
          "name": "stdout",
          "text": [
            "Model: \"sequential\"\n",
            "_________________________________________________________________\n",
            " Layer (type)                Output Shape              Param #   \n",
            "=================================================================\n",
            " dense (Dense)               (None, 20)                340       \n",
            "                                                                 \n",
            " dense_1 (Dense)             (None, 5)                 105       \n",
            "                                                                 \n",
            " dense_2 (Dense)             (None, 1)                 6         \n",
            "                                                                 \n",
            "=================================================================\n",
            "Total params: 451\n",
            "Trainable params: 451\n",
            "Non-trainable params: 0\n",
            "_________________________________________________________________\n"
          ]
        }
      ]
    },
    {
      "cell_type": "code",
      "source": [
        "# Evaluate model on test set\n",
        "test_loss = model2.evaluate(X_test, y_test)"
      ],
      "metadata": {
        "id": "dzqvY-1Vfd3v",
        "colab": {
          "base_uri": "https://localhost:8080/"
        },
        "outputId": "681dd04a-93ec-42a4-c45d-41b140db33e4"
      },
      "execution_count": 23,
      "outputs": [
        {
          "output_type": "stream",
          "name": "stdout",
          "text": [
            "86/86 [==============================] - 0s 2ms/step - loss: 116467624.0000\n"
          ]
        }
      ]
    },
    {
      "cell_type": "markdown",
      "source": [
        "# 6.) Make two visualizations of your NN using “plot_model” and “ann_viz”"
      ],
      "metadata": {
        "id": "NirfWMLxOe-P"
      }
    },
    {
      "cell_type": "code",
      "source": [
        "from tensorflow.keras.utils import plot_model\n",
        "from ann_visualizer.visualize import ann_viz"
      ],
      "metadata": {
        "id": "pF_gjYFTOiL0"
      },
      "execution_count": 26,
      "outputs": []
    },
    {
      "cell_type": "code",
      "source": [
        "# Visualize model architecture using plot_model\n",
        "plot_model(model2, show_shapes=True)"
      ],
      "metadata": {
        "id": "EkAI6lrlOiti",
        "colab": {
          "base_uri": "https://localhost:8080/",
          "height": 422
        },
        "outputId": "844041b5-252f-4bee-b4aa-25b78e12d4e7"
      },
      "execution_count": 27,
      "outputs": [
        {
          "output_type": "execute_result",
          "data": {
            "image/png": "[encoded data removed]",
            "text/plain": [
              "<IPython.core.display.Image object>"
            ]
          },
          "metadata": {},
          "execution_count": 27
        }
      ]
    },
    {
      "cell_type": "code",
      "source": [
        "# Visualize model topology using ann_viz\n",
        "ann_viz(model2, title=\"Neural Network Topology\", view=True, filename=\"network\")"
      ],
      "metadata": {
        "id": "VtFLNv7iOiwq"
      },
      "execution_count": 28,
      "outputs": []
    }
  ]
}